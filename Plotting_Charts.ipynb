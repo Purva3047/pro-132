{
  "nbformat": 4,
  "nbformat_minor": 0,
  "metadata": {
    "colab": {
      "name": "Plotting_Charts.ipynb",
      "provenance": [],
      "collapsed_sections": []
    },
    "kernelspec": {
      "name": "python3",
      "display_name": "Python 3"
    },
    "language_info": {
      "name": "python"
    }
  },
  "cells": [
    {
      "cell_type": "code",
      "metadata": {
        "id": "8o-gYvyHlc4H"
      },
      "source": [
        "import pandas as pd\n",
        "import csv\n",
        "import matplotlib.pyplot as plt"
      ],
      "execution_count": 1,
      "outputs": []
    },
    {
      "cell_type": "code",
      "metadata": {
        "id": "7IIIreBElnSC"
      },
      "source": [
        "df = pd.read_csv(\"star_with_gravity.csv\")"
      ],
      "execution_count": 2,
      "outputs": []
    },
    {
      "cell_type": "code",
      "metadata": {
        "id": "VycGaEwvlsZk",
        "colab": {
          "base_uri": "https://localhost:8080/",
          "height": 204
        },
        "outputId": "8c96de54-d386-44c3-ed46-c8b7310f77e9"
      },
      "source": [
        "df.head()"
      ],
      "execution_count": 3,
      "outputs": [
        {
          "output_type": "execute_result",
          "data": {
            "text/html": [
              "<div>\n",
              "<style scoped>\n",
              "    .dataframe tbody tr th:only-of-type {\n",
              "        vertical-align: middle;\n",
              "    }\n",
              "\n",
              "    .dataframe tbody tr th {\n",
              "        vertical-align: top;\n",
              "    }\n",
              "\n",
              "    .dataframe thead th {\n",
              "        text-align: right;\n",
              "    }\n",
              "</style>\n",
              "<table border=\"1\" class=\"dataframe\">\n",
              "  <thead>\n",
              "    <tr style=\"text-align: right;\">\n",
              "      <th></th>\n",
              "      <th>Unnamed: 0</th>\n",
              "      <th>Star_name</th>\n",
              "      <th>Distance</th>\n",
              "      <th>Mass</th>\n",
              "      <th>Radius</th>\n",
              "      <th>Gravity</th>\n",
              "    </tr>\n",
              "  </thead>\n",
              "  <tbody>\n",
              "    <tr>\n",
              "      <th>0</th>\n",
              "      <td>0</td>\n",
              "      <td>Sun</td>\n",
              "      <td>0.000015813</td>\n",
              "      <td>1.0</td>\n",
              "      <td>1.00</td>\n",
              "      <td>274.269161</td>\n",
              "    </tr>\n",
              "    <tr>\n",
              "      <th>1</th>\n",
              "      <td>1</td>\n",
              "      <td>Sirius</td>\n",
              "      <td>8.6</td>\n",
              "      <td>2.1</td>\n",
              "      <td>1.71</td>\n",
              "      <td>196.971800</td>\n",
              "    </tr>\n",
              "    <tr>\n",
              "      <th>2</th>\n",
              "      <td>2</td>\n",
              "      <td>Canopus</td>\n",
              "      <td>310</td>\n",
              "      <td>15.0</td>\n",
              "      <td>71.00</td>\n",
              "      <td>0.816115</td>\n",
              "    </tr>\n",
              "    <tr>\n",
              "      <th>3</th>\n",
              "      <td>3</td>\n",
              "      <td>Alpha Centauri</td>\n",
              "      <td>4.4</td>\n",
              "      <td>1.1</td>\n",
              "      <td>1.20</td>\n",
              "      <td>209.511165</td>\n",
              "    </tr>\n",
              "    <tr>\n",
              "      <th>4</th>\n",
              "      <td>4</td>\n",
              "      <td>Arcturus</td>\n",
              "      <td>37</td>\n",
              "      <td>1.1</td>\n",
              "      <td>26.00</td>\n",
              "      <td>0.446296</td>\n",
              "    </tr>\n",
              "  </tbody>\n",
              "</table>\n",
              "</div>"
            ],
            "text/plain": [
              "   Unnamed: 0       Star_name     Distance  Mass  Radius     Gravity\n",
              "0           0             Sun  0.000015813   1.0    1.00  274.269161\n",
              "1           1          Sirius          8.6   2.1    1.71  196.971800\n",
              "2           2         Canopus          310  15.0   71.00    0.816115\n",
              "3           3  Alpha Centauri          4.4   1.1    1.20  209.511165\n",
              "4           4        Arcturus           37   1.1   26.00    0.446296"
            ]
          },
          "metadata": {
            "tags": []
          },
          "execution_count": 3
        }
      ]
    },
    {
      "cell_type": "code",
      "metadata": {
        "id": "O4W6jT7zl6_8"
      },
      "source": [
        "mass = df[\"Mass\"].to_list()\n",
        "radius = df[\"Radius\"].to_list()\n",
        "distance = df[\"Distance\"].to_list()\n",
        "gravity = df[\"Gravity\"].to_list()"
      ],
      "execution_count": 4,
      "outputs": []
    },
    {
      "cell_type": "code",
      "metadata": {
        "id": "1joe-Fvol7gR",
        "colab": {
          "base_uri": "https://localhost:8080/",
          "height": 295
        },
        "outputId": "5696b96d-dc30-4061-e228-213422291342"
      },
      "source": [
        "mass.sort()\n",
        "radius.sort()\n",
        "gravity.sort()\n",
        "distance.sort()\n",
        "plt.plot(radius, mass)\n",
        "\n",
        "plt.title(\"Radius & Mass of the Star\")\n",
        "plt.xlabel(\"Radius\")\n",
        "plt.ylabel(\"Mass\")\n",
        "plt.show()"
      ],
      "execution_count": 5,
      "outputs": [
        {
          "output_type": "display_data",
          "data": {
            "image/png": "[encoded data removed]",
            "text/plain": [
              "<Figure size 432x288 with 1 Axes>"
            ]
          },
          "metadata": {
            "tags": [],
            "needs_background": "light"
          }
        }
      ]
    },
    {
      "cell_type": "code",
      "metadata": {
        "id": "TgJtR87_mTdw",
        "colab": {
          "base_uri": "https://localhost:8080/",
          "height": 295
        },
        "outputId": "745bb08e-de3f-4095-aca9-ab23f261cf41"
      },
      "source": [
        "plt.plot(mass, gravity)\n",
        "\n",
        "plt.title(\"Mass VS Gravity\")\n",
        "plt.xlabel(\"Mass\")\n",
        "plt.ylabel(\"Gravity\")\n",
        "plt.show()"
      ],
      "execution_count": 6,
      "outputs": [
        {
          "output_type": "display_data",
          "data": {
            "image/png": "[encoded data removed]",
            "text/plain": [
              "<Figure size 432x288 with 1 Axes>"
            ]
          },
          "metadata": {
            "tags": [],
            "needs_background": "light"
          }
        }
      ]
    },
    {
      "cell_type": "code",
      "metadata": {
        "id": "txUc6xJxminy",
        "colab": {
          "base_uri": "https://localhost:8080/",
          "height": 280
        },
        "outputId": "a1e79fbb-068a-4941-d8fd-3340c543a730"
      },
      "source": [
        "plt.scatter(radius, mass)\n",
        "plt.xlabel(\"Radius\")\n",
        "plt.ylabel(\"Mass\")\n",
        "plt.show()"
      ],
      "execution_count": 7,
      "outputs": [
        {
          "output_type": "display_data",
          "data": {
            "image/png": "[encoded data removed]",
            "text/plain": [
              "<Figure size 432x288 with 1 Axes>"
            ]
          },
          "metadata": {
            "tags": [],
            "needs_background": "light"
          }
        }
      ]
    }
  ]
}